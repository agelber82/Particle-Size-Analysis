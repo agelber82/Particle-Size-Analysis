{
 "cells": [
  {
   "cell_type": "code",
   "execution_count": 1,
   "metadata": {
    "collapsed": true
   },
   "outputs": [],
   "source": [
    "import numpy as np\n",
    "import pandas as pd\n",
    "from scipy import stats\n",
    "from matplotlib import pyplot as plt"
   ]
  },
  {
   "cell_type": "code",
   "execution_count": 2,
   "metadata": {
    "collapsed": false
   },
   "outputs": [
    {
     "data": {
      "image/png": "[encoded data removed]",
      "text/plain": [
       "<matplotlib.figure.Figure at 0x1fcd2e7b710>"
      ]
     },
     "metadata": {},
     "output_type": "display_data"
    }
   ],
   "source": [
    "y = np.array([7.6,7.4,8.2,9.2,10.2,11.5,12.4,13.4,13.7,11.8,10.1,9.0,8.9,9.5,10.6,11.4,12.9,12.7,13.9,14.2,13.5,11.4,10.9,8.1])\n",
    "t = np.array([1,2,3,4,5,6,7,8,9,10,11,12,13,14,15,16,17,18,19,20,21,22,23,24])\n",
    "plt.figure()   #need to have same amount of inputs in both arrays, otherwise error will occur\n",
    "plt.plot(t, y)\n",
    "plt.show()\n"
   ]
  },
  {
   "cell_type": "code",
   "execution_count": 3,
   "metadata": {
    "collapsed": false
   },
   "outputs": [],
   "source": [
    "col1 = np.ones(24)\n",
    "col1.resize((24,1))"
   ]
  },
  {
   "cell_type": "code",
   "execution_count": 4,
   "metadata": {
    "collapsed": false
   },
   "outputs": [],
   "source": [
    "col2=np.sin((2*np.pi*t)/12)\n",
    "col2.resize((24,1))"
   ]
  },
  {
   "cell_type": "code",
   "execution_count": 5,
   "metadata": {
    "collapsed": false
   },
   "outputs": [],
   "source": [
    "col3=np.cos((2*np.pi*t)/12)\n",
    "col3.resize((24,1))"
   ]
  },
  {
   "cell_type": "code",
   "execution_count": 6,
   "metadata": {
    "collapsed": false
   },
   "outputs": [],
   "source": [
    "col4=np.sin((2*np.pi*t)/6)\n",
    "col4.resize((24,1))\n"
   ]
  },
  {
   "cell_type": "code",
   "execution_count": 7,
   "metadata": {
    "collapsed": true
   },
   "outputs": [],
   "source": [
    "col5=np.cos((2*np.pi*t)/6)\n",
    "col5.resize((24,1))\n"
   ]
  },
  {
   "cell_type": "code",
   "execution_count": 8,
   "metadata": {
    "collapsed": true
   },
   "outputs": [],
   "source": [
    "col6=t\n",
    "col6.resize((24,1))"
   ]
  },
  {
   "cell_type": "code",
   "execution_count": 9,
   "metadata": {
    "collapsed": false
   },
   "outputs": [
    {
     "name": "stdout",
     "output_type": "stream",
     "text": [
      "[[  1.00000000e+00   5.00000000e-01   8.66025404e-01   8.66025404e-01\n",
      "    5.00000000e-01   1.00000000e+00]\n",
      " [  1.00000000e+00   8.66025404e-01   5.00000000e-01   8.66025404e-01\n",
      "   -5.00000000e-01   2.00000000e+00]\n",
      " [  1.00000000e+00   1.00000000e+00   6.12323400e-17   1.22464680e-16\n",
      "   -1.00000000e+00   3.00000000e+00]\n",
      " [  1.00000000e+00   8.66025404e-01  -5.00000000e-01  -8.66025404e-01\n",
      "   -5.00000000e-01   4.00000000e+00]\n",
      " [  1.00000000e+00   5.00000000e-01  -8.66025404e-01  -8.66025404e-01\n",
      "    5.00000000e-01   5.00000000e+00]\n",
      " [  1.00000000e+00   1.22464680e-16  -1.00000000e+00  -2.44929360e-16\n",
      "    1.00000000e+00   6.00000000e+00]\n",
      " [  1.00000000e+00  -5.00000000e-01  -8.66025404e-01   8.66025404e-01\n",
      "    5.00000000e-01   7.00000000e+00]\n",
      " [  1.00000000e+00  -8.66025404e-01  -5.00000000e-01   8.66025404e-01\n",
      "   -5.00000000e-01   8.00000000e+00]\n",
      " [  1.00000000e+00  -1.00000000e+00  -1.83697020e-16   3.67394040e-16\n",
      "   -1.00000000e+00   9.00000000e+00]\n",
      " [  1.00000000e+00  -8.66025404e-01   5.00000000e-01  -8.66025404e-01\n",
      "   -5.00000000e-01   1.00000000e+01]\n",
      " [  1.00000000e+00  -5.00000000e-01   8.66025404e-01  -8.66025404e-01\n",
      "    5.00000000e-01   1.10000000e+01]\n",
      " [  1.00000000e+00  -2.44929360e-16   1.00000000e+00  -4.89858720e-16\n",
      "    1.00000000e+00   1.20000000e+01]\n",
      " [  1.00000000e+00   5.00000000e-01   8.66025404e-01   8.66025404e-01\n",
      "    5.00000000e-01   1.30000000e+01]\n",
      " [  1.00000000e+00   8.66025404e-01   5.00000000e-01   8.66025404e-01\n",
      "   -5.00000000e-01   1.40000000e+01]\n",
      " [  1.00000000e+00   1.00000000e+00   1.19434012e-15   2.38868024e-15\n",
      "   -1.00000000e+00   1.50000000e+01]\n",
      " [  1.00000000e+00   8.66025404e-01  -5.00000000e-01  -8.66025404e-01\n",
      "   -5.00000000e-01   1.60000000e+01]\n",
      " [  1.00000000e+00   5.00000000e-01  -8.66025404e-01  -8.66025404e-01\n",
      "    5.00000000e-01   1.70000000e+01]\n",
      " [  1.00000000e+00   3.67394040e-16  -1.00000000e+00  -7.34788079e-16\n",
      "    1.00000000e+00   1.80000000e+01]\n",
      " [  1.00000000e+00  -5.00000000e-01  -8.66025404e-01   8.66025404e-01\n",
      "    5.00000000e-01   1.90000000e+01]\n",
      " [  1.00000000e+00  -8.66025404e-01  -5.00000000e-01   8.66025404e-01\n",
      "   -5.00000000e-01   2.00000000e+01]\n",
      " [  1.00000000e+00  -1.00000000e+00  -4.28626380e-16   8.57252759e-16\n",
      "   -1.00000000e+00   2.10000000e+01]\n",
      " [  1.00000000e+00  -8.66025404e-01   5.00000000e-01  -8.66025404e-01\n",
      "   -5.00000000e-01   2.20000000e+01]\n",
      " [  1.00000000e+00  -5.00000000e-01   8.66025404e-01  -8.66025404e-01\n",
      "    5.00000000e-01   2.30000000e+01]\n",
      " [  1.00000000e+00  -4.89858720e-16   1.00000000e+00  -9.79717439e-16\n",
      "    1.00000000e+00   2.40000000e+01]]\n"
     ]
    }
   ],
   "source": [
    "matrix = np.concatenate(((col1,col2,col3,col4,col5,col6)), axis=1)\n",
    "print(matrix)"
   ]
  },
  {
   "cell_type": "code",
   "execution_count": 10,
   "metadata": {
    "collapsed": false
   },
   "outputs": [
    {
     "name": "stdout",
     "output_type": "stream",
     "text": [
      "[ 9.85795287 -1.65836418 -1.87433896  0.10628517 -0.53636377  0.08636377]\n"
     ]
    }
   ],
   "source": [
    "coeffs = np.linalg.lstsq(matrix,y)[0]\n",
    "print(coeffs)"
   ]
  },
  {
   "cell_type": "code",
   "execution_count": 11,
   "metadata": {
    "collapsed": false
   },
   "outputs": [
    {
     "name": "stdout",
     "output_type": "stream",
     "text": [
      "linear trend coeff is= 0.0863637706016\n",
      "linear trend constant is= 9.85795286748\n",
      "annual harmonic sine of 1 year is= -1.65836417604\n",
      "annual harmonic cosine of 1 year is= -1.87433896269\n",
      "annual harmonic sine of 6 months is= 0.106285168426\n",
      "annual harmonic cosine of 6 months is= -0.536363770602\n"
     ]
    }
   ],
   "source": [
    "print('linear trend coeff is=', coeffs[5])\n",
    "print('linear trend constant is=', coeffs[0])\n",
    "print('annual harmonic sine of 1 year is=', coeffs[1])\n",
    "print('annual harmonic cosine of 1 year is=', coeffs[2])\n",
    "print('annual harmonic sine of 6 months is=', coeffs[3])\n",
    "print('annual harmonic cosine of 6 months is=', coeffs[4])"
   ]
  },
  {
   "cell_type": "code",
   "execution_count": null,
   "metadata": {
    "collapsed": false
   },
   "outputs": [],
   "source": []
  },
  {
   "cell_type": "code",
   "execution_count": null,
   "metadata": {
    "collapsed": false
   },
   "outputs": [],
   "source": []
  },
  {
   "cell_type": "code",
   "execution_count": null,
   "metadata": {
    "collapsed": true
   },
   "outputs": [],
   "source": []
  }
 ],
 "metadata": {
  "anaconda-cloud": {},
  "kernelspec": {
   "display_name": "Python [conda root]",
   "language": "python",
   "name": "conda-root-py"
  },
  "language_info": {
   "codemirror_mode": {
    "name": "ipython",
    "version": 3
   },
   "file_extension": ".py",
   "mimetype": "text/x-python",
   "name": "python",
   "nbconvert_exporter": "python",
   "pygments_lexer": "ipython3",
   "version": "3.5.2"
  }
 },
 "nbformat": 4,
 "nbformat_minor": 1
}

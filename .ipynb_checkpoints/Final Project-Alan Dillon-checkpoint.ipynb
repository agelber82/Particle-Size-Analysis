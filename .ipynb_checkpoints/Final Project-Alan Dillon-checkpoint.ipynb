{
 "cells": [
  {
   "cell_type": "markdown",
   "metadata": {},
   "source": [
    "Introduction:"
   ]
  },
  {
   "cell_type": "markdown",
   "metadata": {},
   "source": [
    "The oceans cover most of the surface on Earth, and they contain secrets waiting to be discovered.  These secrets can be unraveled and insight into past events on our dynamic planet can be studied.  Through the process of collecting sediment samples from near shore shelfs, and deep open ocean, grain size and sediment assemblage composition can help reconstruct paleo-climate.  Specifically, these cores address the paleo-climate from the Western Pacific Warm-pool.  When the ITCZ shifts, the weather, and monsoonal rains will vary in Northern Australia and South Asia which should show as a change in productivity and ultimately sedimentation.  The purpose of this analysis is to help better understand grain size distribution among near shore and open ocean environments."
   ]
  },
  {
   "cell_type": "markdown",
   "metadata": {},
   "source": [
    "Methods and Data Sources"
   ]
  },
  {
   "cell_type": "markdown",
   "metadata": {},
   "source": [
    "The data I available to analyze is from 5 different cores.  Theses cores were collected from expedition 363 in Summer/Fall 2016.  The samples were sent to us and we analyzed their grain size with the use of the Laser Particle Sizer in the Geological Oceanography Lab.  Each sample was analyzed at an obscuration % which was ideal for the sediment sizes.  Most were clay and few were silty.  The ideal obscuration for mud/clay is 8% with silt at 12%.  The LPS produced grain mean, mode and median size.  It also calculated volume percentages.  \n",
    "U1484A was collected ~15 km off shore of Papa New Guinea (PPG).   U1484A was cored down to a depth of 195 meters below sea floor (MBSF).  Was collected with an advanced piston corer (APC) that can recover 7 meters at a time.  U1485A was collected ~19 km off the northern coast of PNG.  U1485A was cored down to a depth of 300.8 mbsf.  Was collected with the APC to a depth of 188 mbsf, and then HLAPC to a depth of 300.8 mbsf.  U1486B was collected ~215 km west-southwest of Manus Island.  U1486B was cored to a depth of 211.2 mbsf.  Was collected with the APC.  U1489B was collected on the Western Slope of the southern Eaurpik Rise which is north of PNG, ~2° north of the equator.  U1489B was cored to a depth of 129.2 mbsf.  Was collected with an APC.  U1489C was in the same location as U1489B.  U1489C was cored down to a depth of 269.5 mbsf.  Was collected with an APC.  \n"
   ]
  },
  {
   "cell_type": "code",
   "execution_count": null,
   "metadata": {
    "collapsed": true
   },
   "outputs": [],
   "source": []
  }
 ],
 "metadata": {
  "anaconda-cloud": {},
  "kernelspec": {
   "display_name": "Python [conda root]",
   "language": "python",
   "name": "conda-root-py"
  },
  "language_info": {
   "codemirror_mode": {
    "name": "ipython",
    "version": 3
   },
   "file_extension": ".py",
   "mimetype": "text/x-python",
   "name": "python",
   "nbconvert_exporter": "python",
   "pygments_lexer": "ipython3",
   "version": "3.5.2"
  }
 },
 "nbformat": 4,
 "nbformat_minor": 1
}
